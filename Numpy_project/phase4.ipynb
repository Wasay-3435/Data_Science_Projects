{
 "cells": [
  {
   "cell_type": "markdown",
   "id": "c7088f6f",
   "metadata": {},
   "source": [
    "#### Numpy logo"
   ]
  },
  {
   "cell_type": "code",
   "execution_count": 1,
   "id": "79f3386b",
   "metadata": {},
   "outputs": [],
   "source": [
    "import numpy as np\n",
    "import matplotlib.pyplot as plt"
   ]
  },
  {
   "cell_type": "code",
   "execution_count": null,
   "id": "8608f224",
   "metadata": {},
   "outputs": [],
   "source": [
    "arr1 = np.array([[1,2,3],[6,7,8]])\n",
    "arr2 = np.random.rand(3,3)\n",
    "arr3 = np.zeros((4,4))"
   ]
  },
  {
   "cell_type": "code",
   "execution_count": 5,
   "id": "fc0b5603",
   "metadata": {},
   "outputs": [],
   "source": [
    "np.save('array1.npy',arr1)\n",
    "np.save('array2.npy',arr2)\n",
    "np.save('array3.npy',arr3)"
   ]
  },
  {
   "cell_type": "code",
   "execution_count": 2,
   "id": "c13bb451",
   "metadata": {},
   "outputs": [
    {
     "name": "stdout",
     "output_type": "stream",
     "text": [
      "[[1 2 3]\n",
      " [6 7 8]]\n"
     ]
    }
   ],
   "source": [
    "loaded_array = np.load('array1.npy')\n",
    "print(loaded_array)"
   ]
  },
  {
   "cell_type": "code",
   "execution_count": 6,
   "id": "458ff1d2",
   "metadata": {},
   "outputs": [],
   "source": [
    "import numpy as np\n",
    "\n",
    "# Example: pixel-art \"N\" (simplified NumPy logo)\n",
    "numpy_logo = np.array([\n",
    "    [1,0,0,0,0,0,0,1],\n",
    "    [1,1,0,0,0,0,0,1],\n",
    "    [1,0,1,0,0,0,0,1],\n",
    "    [1,0,0,1,0,0,0,1],\n",
    "    [1,0,0,0,1,0,0,1],\n",
    "    [1,0,0,0,0,1,0,1],\n",
    "    [1,0,0,0,0,0,1,1],\n",
    "    [1,0,0,0,0,0,0,1],\n",
    "])\n",
    "\n",
    "# Save it as a .npy file\n",
    "np.save(\"numpy-logo.npy\", numpy_logo)"
   ]
  },
  {
   "cell_type": "code",
   "execution_count": 3,
   "id": "ae97927a",
   "metadata": {},
   "outputs": [
    {
     "data": {
      "image/png": "[encoded data removed]",
      "text/plain": [
       "<Figure size 1000x500 with 1 Axes>"
      ]
     },
     "metadata": {},
     "output_type": "display_data"
    }
   ],
   "source": [
    "try:\n",
    "    logo = np.load('numpy-logo.npy')\n",
    "    \n",
    "    #display\n",
    "    plt.figure(figsize = (10,5))\n",
    "    plt.subplot(121)\n",
    "    plt.imshow(logo)\n",
    "    plt.title(\"Numpy Logo\")\n",
    "    plt.grid(False)\n",
    "except FileNotFoundError:\n",
    "    print(\"numpy logo couldnot found\")\n"
   ]
  },
  {
   "cell_type": "code",
   "execution_count": null,
   "id": "ead7422a",
   "metadata": {},
   "outputs": [],
   "source": []
  }
 ],
 "metadata": {
  "kernelspec": {
   "display_name": "venv",
   "language": "python",
   "name": "python3"
  },
  "language_info": {
   "codemirror_mode": {
    "name": "ipython",
    "version": 3
   },
   "file_extension": ".py",
   "mimetype": "text/x-python",
   "name": "python",
   "nbconvert_exporter": "python",
   "pygments_lexer": "ipython3",
   "version": "3.13.7"
  }
 },
 "nbformat": 4,
 "nbformat_minor": 5
}
