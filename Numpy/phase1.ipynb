{
 "cells": [
  {
   "cell_type": "markdown",
   "id": "7a7d053c",
   "metadata": {},
   "source": [
    "##Numpy Practice"
   ]
  },
  {
   "cell_type": "code",
   "execution_count": 1,
   "id": "e18ccc17",
   "metadata": {},
   "outputs": [
    {
     "name": "stdout",
     "output_type": "stream",
     "text": [
      "1d array :  [1 2 3 4 5]\n",
      "2d array :  [[1 2 3]\n",
      " [4 5 6]]\n"
     ]
    }
   ],
   "source": [
    "import numpy as np\n",
    "arr_1d = np.array([1,2,3,4,5])\n",
    "print(\"1d array : \", arr_1d)\n",
    "\n",
    "arr_2d = np.array([[1,2,3],[4,5,6]])\n",
    "print(\"2d array : \",arr_2d)"
   ]
  },
  {
   "cell_type": "markdown",
   "id": "973b71fe",
   "metadata": {},
   "source": [
    "### list vs numpy array"
   ]
  },
  {
   "cell_type": "code",
   "execution_count": null,
   "id": "035f4bbf",
   "metadata": {},
   "outputs": [],
   "source": [
    "py_list = [1,2,3]\n",
    "print(\"multiplication of python list : \",py_list * 2)\n",
    "\n",
    "np_arr = np.array([1,2,3])\n",
    "print(\"multiplication of python array : \",np_arr * 2)"
   ]
  },
  {
   "cell_type": "markdown",
   "id": "41341c17",
   "metadata": {},
   "source": [
    "### creating array from scratch"
   ]
  },
  {
   "cell_type": "code",
   "execution_count": null,
   "id": "7d18aa81",
   "metadata": {},
   "outputs": [
    {
     "name": "stdout",
     "output_type": "stream",
     "text": [
      "matrix of 3 * 4 : \n",
      " [[0. 0. 0. 0.]\n",
      " [0. 0. 0. 0.]\n",
      " [0. 0. 0. 0.]]\n",
      "matrix of one : \n",
      " [[1. 1. 1. 1.]\n",
      " [1. 1. 1. 1.]]\n",
      "array of constant :\n",
      " [[6 6]\n",
      " [6 6]]\n",
      "array of raandom numbers : \n",
      " [[0.96360993 0.68589934 0.70169423]\n",
      " [0.55555484 0.2272483  0.8609833 ]]\n",
      "array of sequnece numbers : \n",
      " [0 2 4 6 8]\n"
     ]
    }
   ],
   "source": [
    "zeros = np.zeros((3,4))\n",
    "print(\"matrix of 3 * 4 : \\n\", zeros)\n",
    "\n",
    "ones = np.ones((2,4))\n",
    "print(\"matrix of one : \\n\",ones)\n",
    "\n",
    "full = np.full((2,2),6)\n",
    "print(\"array of constant :\\n\",full)\n",
    "\n",
    "random = np.random.random((2,3))\n",
    "print(\"array of raandom numbers : \\n\",random)\n",
    "\n",
    "#important one: here 9 is exclusive\n",
    "sequence = np.arange(0,9,2)\n",
    "print(\"array of sequnece numbers : \\n\",sequence)"
   ]
  },
  {
   "cell_type": "markdown",
   "id": "98fa3855",
   "metadata": {},
   "source": [
    "### vector , matrix & tensor"
   ]
  },
  {
   "cell_type": "code",
   "execution_count": 3,
   "id": "c4914ee8",
   "metadata": {},
   "outputs": [
    {
     "name": "stdout",
     "output_type": "stream",
     "text": [
      "[1 2 3]\n",
      "[[1 2 3]\n",
      " [4 5 6]]\n",
      "\n",
      " [[[1 2 3]\n",
      "  [4 5 6]]\n",
      "\n",
      " [[3 4 5]\n",
      "  [1 2 3]]]\n"
     ]
    }
   ],
   "source": [
    "vector = np.array([1,2,3]) #1 dimension is vector\n",
    "print(vector)\n",
    "\n",
    "matrix = np.array([[1,2,3],[4,5,6]]) #2d is matrix\n",
    "print(matrix)\n",
    "\n",
    "tensor = np.array([[[1,2,3],[4,5,6]],\n",
    "                   [[3,4,5],[1,2,3]]])\n",
    "\n",
    "print(\"\\n\",tensor)"
   ]
  },
  {
   "cell_type": "markdown",
   "id": "ff04a639",
   "metadata": {},
   "source": [
    "#### Array Properties"
   ]
  },
  {
   "cell_type": "code",
   "execution_count": 4,
   "id": "b1f171b6",
   "metadata": {},
   "outputs": [
    {
     "name": "stdout",
     "output_type": "stream",
     "text": [
      "shape of array :  (2, 3)\n",
      "dimension of array :  2\n",
      "size of array :  6\n",
      "Dtype :  int64\n"
     ]
    }
   ],
   "source": [
    "arr = np.array([[1,2,2],\n",
    "                [3,4,5]])\n",
    "\n",
    "print(\"shape of array : \" ,arr.shape)\n",
    "print(\"dimension of array : \" ,arr.ndim)\n",
    "print(\"size of array : \" ,arr.size)\n",
    "print(\"Dtype : \",arr.dtype)"
   ]
  },
  {
   "cell_type": "markdown",
   "id": "5b61bf50",
   "metadata": {},
   "source": [
    "### Array reshaping"
   ]
  },
  {
   "cell_type": "code",
   "execution_count": null,
   "id": "48c106c4",
   "metadata": {},
   "outputs": [
    {
     "name": "stdout",
     "output_type": "stream",
     "text": [
      "original array  [ 0  1  2  3  4  5  6  7  8  9 10 11]\n",
      "reshaped array : \n",
      " [[ 0  1  2  3]\n",
      " [ 4  5  6  7]\n",
      " [ 8  9 10 11]]\n",
      " flattened array :  [ 0  1  2  3  4  5  6  7  8  9 10 11]\n",
      "ravelled_arr [ 0  1  2  3  4  5  6  7  8  9 10 11]\n",
      "transpose :\n",
      " [[ 0  4  8]\n",
      " [ 1  5  9]\n",
      " [ 2  6 10]\n",
      " [ 3  7 11]]\n"
     ]
    }
   ],
   "source": [
    "arr = np.arange(12)\n",
    "print(\"original array \",arr)\n",
    "\n",
    "reshaped_arr = arr.reshape((3,4))\n",
    "print(\"reshaped array : \\n\",reshaped_arr)\n",
    "# flatten changed the array shap to flat(1d)\n",
    "flattened= reshaped_arr.flatten()\n",
    "print(\" flattened array : \",flattened)\n",
    "\n",
    "#returns view instead of copy\n",
    "ravelled_arr = reshaped_arr.ravel()\n",
    "print(\"ravelled_arr\",ravelled_arr)\n",
    "\n",
    "#transpose\n",
    "transpose = reshaped_arr.T\n",
    "print(\"transpose :\\n\",transpose)\n",
    "\n",
    "\n"
   ]
  },
  {
   "cell_type": "code",
   "execution_count": 2,
   "id": "554e1afb",
   "metadata": {},
   "outputs": [
    {
     "name": "stdout",
     "output_type": "stream",
     "text": [
      "[[[1 2]\n",
      "  [3 4]]\n",
      "\n",
      " [[5 6]\n",
      "  [7 8]]]\n"
     ]
    }
   ],
   "source": [
    "a3D = np.array([[[1, 2], [3, 4]], [[5, 6], [7, 8]]])\n",
    "print(a3D)"
   ]
  }
 ],
 "metadata": {
  "kernelspec": {
   "display_name": "Python 3",
   "language": "python",
   "name": "python3"
  },
  "language_info": {
   "codemirror_mode": {
    "name": "ipython",
    "version": 3
   },
   "file_extension": ".py",
   "mimetype": "text/x-python",
   "name": "python",
   "nbconvert_exporter": "python",
   "pygments_lexer": "ipython3",
   "version": "3.13.7"
  }
 },
 "nbformat": 4,
 "nbformat_minor": 5
}
