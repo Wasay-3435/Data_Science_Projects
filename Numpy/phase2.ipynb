{
 "cells": [
  {
   "cell_type": "markdown",
   "id": "7311f472",
   "metadata": {},
   "source": [
    "#### Numpy Array Operations"
   ]
  },
  {
   "cell_type": "code",
   "execution_count": 1,
   "id": "9580471a",
   "metadata": {},
   "outputs": [
    {
     "name": "stdout",
     "output_type": "stream",
     "text": [
      "basic slicing :  [4 5 6]\n",
      "with steping :  [2 4 6]\n",
      "with negative :  4\n"
     ]
    }
   ],
   "source": [
    "import numpy as np\n",
    "arr = np.array([1,2,3,4,5,6])\n",
    "print(\"basic slicing : \",arr[3:6])\n",
    "print(\"with steping : \",arr[1:6:2])\n",
    "print(\"with negative : \",arr[-3])"
   ]
  },
  {
   "cell_type": "code",
   "execution_count": null,
   "id": "290ea999",
   "metadata": {},
   "outputs": [
    {
     "name": "stdout",
     "output_type": "stream",
     "text": [
      "specific element :  6\n",
      "Entire row :  [7 8 9]\n",
      "entire column :  [2 5 8]\n"
     ]
    }
   ],
   "source": [
    "arr_2d = np.array([[1,2,3], # here 1st index is [4,5,6]\n",
    "                  [4,5,6],\n",
    "                  [7,8,9]])\n",
    "print(\"specific element : \", arr_2d[1,2])\n",
    "print(\"Entire row : \",arr_2d[2])\n",
    "print(\"entire column : \",arr_2d[:,1])"
   ]
  },
  {
   "cell_type": "markdown",
   "id": "0742fba7",
   "metadata": {},
   "source": [
    "### sorting"
   ]
  },
  {
   "cell_type": "code",
   "execution_count": 4,
   "id": "56c65006",
   "metadata": {},
   "outputs": [
    {
     "name": "stdout",
     "output_type": "stream",
     "text": [
      "sorted array  [ 1  2  3  4  5 31]\n",
      "row wise sorting :  [[3 1]\n",
      " [4 2]\n",
      " [5 3]]\n"
     ]
    }
   ],
   "source": [
    "unsorted = np.array([3,2,4,5,31,1])\n",
    "print(\"sorted array \",np.sort(unsorted))\n",
    "\n",
    "arr_2d = np.array([[3,1] ,[4,2] ,[5,3]])\n",
    "print(\"row wise sorting : \",np.sort(arr_2d , axis =0))"
   ]
  },
  {
   "cell_type": "markdown",
   "id": "3c674e3c",
   "metadata": {},
   "source": [
    "### filtering "
   ]
  },
  {
   "cell_type": "code",
   "execution_count": 7,
   "id": "7bc97636",
   "metadata": {},
   "outputs": [
    {
     "name": "stdout",
     "output_type": "stream",
     "text": [
      "even numbers are :  [ 2  4  6  8 10]\n"
     ]
    }
   ],
   "source": [
    "array = np.array([1,2,3,4,5,6,7,8,9,10])\n",
    "even_numbers = array[array % 2 == 0 ]\n",
    "print(\"even numbers are : \" , even_numbers)"
   ]
  },
  {
   "cell_type": "markdown",
   "id": "6beb270a",
   "metadata": {},
   "source": [
    "##### filter with mask"
   ]
  },
  {
   "cell_type": "code",
   "execution_count": 8,
   "id": "68adeda7",
   "metadata": {},
   "outputs": [
    {
     "name": "stdout",
     "output_type": "stream",
     "text": [
      "numbers greater than 4 :  [ 5  6  7  8  9 10]\n"
     ]
    }
   ],
   "source": [
    "mask = array > 4\n",
    "print(\"numbers greater than 4 : \",array[mask])"
   ]
  },
  {
   "cell_type": "markdown",
   "id": "7b50dc99",
   "metadata": {},
   "source": [
    "#### fancy indexing vs where() clause"
   ]
  },
  {
   "cell_type": "code",
   "execution_count": 24,
   "id": "0e2098b9",
   "metadata": {},
   "outputs": [
    {
     "name": "stdout",
     "output_type": "stream",
     "text": [
      "[1 3 5]\n",
      "(array([5, 6, 7, 8, 9]),)\n",
      "Np where :  [ 6  7  8  9 10]\n"
     ]
    }
   ],
   "source": [
    "indices = [0,2,4]\n",
    "print(array[indices])\n",
    "\n",
    "where_result = np.where(array > 5 )\n",
    "print(where_result)\n",
    "print(\"Np where : \",array[where_result])"
   ]
  },
  {
   "cell_type": "code",
   "execution_count": 30,
   "id": "ffd8ec07",
   "metadata": {},
   "outputs": [
    {
     "name": "stdout",
     "output_type": "stream",
     "text": [
      "conditional array :  [ 1  2  3  4  5 18 21 24 27 30]\n"
     ]
    }
   ],
   "source": [
    "condition_array = np.where(array > 5, array * 3 ,array)\n",
    "print(\"conditional array : \",condition_array)"
   ]
  },
  {
   "cell_type": "markdown",
   "id": "4d6286e6",
   "metadata": {},
   "source": [
    "#### adding and removing data"
   ]
  },
  {
   "cell_type": "code",
   "execution_count": 9,
   "id": "3994d398",
   "metadata": {},
   "outputs": [
    {
     "name": "stdout",
     "output_type": "stream",
     "text": [
      "[5 7 9]\n",
      "[1 2 3 4 5 6]\n"
     ]
    }
   ],
   "source": [
    "# how to merge two arrays:\n",
    "arr1 = np.array([1,2,3])\n",
    "arr2 = np.array([4,5,6])\n",
    "\n",
    "adding_arr = arr1 + arr2\n",
    "print(adding_arr)\n",
    "\n",
    "combined_arr = np.concatenate((arr1,arr2))\n",
    "print(combined_arr)\n",
    "\n"
   ]
  },
  {
   "cell_type": "markdown",
   "id": "31067a38",
   "metadata": {},
   "source": [
    "##### array compatibality"
   ]
  },
  {
   "cell_type": "code",
   "execution_count": null,
   "id": "3e537a30",
   "metadata": {},
   "outputs": [
    {
     "name": "stdout",
     "output_type": "stream",
     "text": [
      "compatibility of array :  False\n",
      "compatibility of array :  False\n",
      "compatibility of array :  True\n",
      "compatibility of array :  True\n",
      "[[1 2]\n",
      " [2 3]]\n",
      "[[1 2]\n",
      " [2 3]\n",
      " [4 5]]\n",
      "[[1 2 7]\n",
      " [2 3 8]]\n",
      "array after deletion  [1 2 3]\n"
     ]
    }
   ],
   "source": [
    "arr1 = np.array([1,2,3])\n",
    "arr2 = np.array([[4,5,6],[4,5,6]])\n",
    "arr3 = np.array([[7,8,9],[7,7,8,]])\n",
    "\n",
    "print(\"compatibility of array : \",arr1.shape == arr2.shape)\n",
    "print(\"compatibility of array : \",arr1.size == arr2.size)\n",
    "\n",
    "print(\"compatibility of array : \",arr2.shape == arr3.shape)\n",
    "print(\"compatibility of array : \",arr2.size == arr3.size)\n",
    "\n",
    "original = np.array([[1,2] , [2,3]])\n",
    "new_row = np.array([4,5])\n",
    "#vstack means vertical stack(it always add row)\n",
    "with_new_row = np.vstack((original,new_row))\n",
    "print(original)\n",
    "print(with_new_row)\n",
    "\n",
    "#hstack means vertical stack(it always add column)\n",
    "new_column = np.array([[7],[8]])\n",
    "with_new_column = np.hstack((original,new_column))\n",
    "print(with_new_column)\n",
    "\n",
    "arr = np.array([1,2,3,4])\n",
    "deleted = np.delete(arr,3)\n",
    "print(\"array after deletion \",deleted)\n",
    "\n"
   ]
  }
 ],
 "metadata": {
  "kernelspec": {
   "display_name": "Python 3",
   "language": "python",
   "name": "python3"
  },
  "language_info": {
   "codemirror_mode": {
    "name": "ipython",
    "version": 3
   },
   "file_extension": ".py",
   "mimetype": "text/x-python",
   "name": "python",
   "nbconvert_exporter": "python",
   "pygments_lexer": "ipython3",
   "version": "3.13.7"
  }
 },
 "nbformat": 4,
 "nbformat_minor": 5
}
